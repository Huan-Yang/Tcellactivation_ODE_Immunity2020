{
 "cells": [
  {
   "cell_type": "code",
   "execution_count": null,
   "metadata": {},
   "outputs": [],
   "source": [
    "%%capture\n",
    "%pylab inline\n",
    "%config InlineBackend.figure_format = 'retina'\n",
    "%load_ext autoreload\n",
    "%autoreload 2\n",
    "\n",
    "import os,time,copy\n",
    "import numpy as np\n",
    "import pandas as pd\n",
    "import copy\n",
    "from pathlib import Path"
   ]
  },
  {
   "cell_type": "code",
   "execution_count": null,
   "metadata": {},
   "outputs": [],
   "source": [
    "# local settings\n",
    "basepath = Path().absolute().parent\n",
    "\n",
    "# Add repository's src folder to python path\n",
    "sys.path.append(str(basepath.joinpath('src')))\n",
    "\n",
    "# model implementation\n",
    "from tcell_model_v7 import *\n",
    "\n",
    "# plotting settings\n",
    "from plotting_imports_nb import *\n",
    "\n",
    "# local settings\n",
    "exp = 257\n",
    "datapath = basepath.joinpath(f'expdata/kinetics_exp{exp}')\n",
    "\n",
    "ct = 'U-D-CTLA4'\n",
    "celltypes = ['undivided','divided CTLA4-','divided CTLA4+']\n",
    "cnt0s = [25000,50000,100000]\n"
   ]
  },
  {
   "cell_type": "markdown",
   "metadata": {},
   "source": [
    "# Model"
   ]
  },
  {
   "cell_type": "markdown",
   "metadata": {},
   "source": [
    "Retrieve data from experiments and interpolate that data. The model needs all keys present in `data`."
   ]
  },
  {
   "cell_type": "code",
   "execution_count": null,
   "metadata": {},
   "outputs": [],
   "source": [
    "def get_interpolated_data(line, well, cnt0):\n",
    "    data = {}\n",
    "    ct = 'U-D-CTLA4'\n",
    "    # FCS data\n",
    "    fn_expr = datapath.joinpath(f'intensity_for_celltypes_{ct}.csv.gz')\n",
    "    df_expr = pd.read_csv(fn_expr, sep='\\t', compression='gzip')\n",
    "    sdf_expr = df_expr[(df_expr.line == line) & (df_expr.well == well) & (df_expr.cnt0 == cnt0)]\n",
    "    data['CD25u'] = sdf_expr[sdf_expr.celltype == 'U'].groupby('time').mean()['CD25']\n",
    "    data['CD25neg'] = sdf_expr[sdf_expr.celltype == 'Dneg'].groupby('time').mean()['CD25']\n",
    "    data['CD25pos'] = sdf_expr[sdf_expr.celltype == 'Dpos'].groupby('time').mean()['CD25']\n",
    "    data['CD80u'] = sdf_expr[sdf_expr.celltype == 'U'].groupby('time').mean()['CD80']\n",
    "    data['CD80neg'] = sdf_expr[sdf_expr.celltype == 'Dneg'].groupby('time').mean()['CD80']\n",
    "    data['CD80pos'] = sdf_expr[sdf_expr.celltype == 'Dpos'].groupby('time').mean()['CD80']\n",
    "    data['CD86u'] = sdf_expr[sdf_expr.celltype == 'U'].groupby('time').mean()['CD86']\n",
    "    data['CD86neg'] = sdf_expr[sdf_expr.celltype == 'Dneg'].groupby('time').mean()['CD86']\n",
    "    data['CD86pos'] = sdf_expr[sdf_expr.celltype == 'Dpos'].groupby('time').mean()['CD86']\n",
    "\n",
    "    # IL-2\n",
    "    fn_pop = datapath.joinpath(f'processed_data.csv.gz')\n",
    "    df_pop = pd.read_csv(fn_pop, sep='\\t', compression='gzip')\n",
    "    df_pop.loc[df_pop.well == 'Flat', 'well'] = 'F'\n",
    "    data['IL2'] = df_pop[(df_pop.line == line) & (df_pop.well == well) &\n",
    "                         (df_pop.cnt0 == cnt0)].groupby('time').mean()['IL-2']\n",
    "\n",
    "    for key, df in data.items():\n",
    "        data[key] = df.dropna()\n",
    "    return data\n"
   ]
  },
  {
   "cell_type": "markdown",
   "metadata": {},
   "source": [
    "Below we set up the rates associated to each arrow in the model. In this way we can easily modify the model rates without modifying the model structure (which is found in `tcell_model_v7.py`. Every rate is function of `state` which is a container, specifically a `namedtuple`, that contains all model states and model inputs. The set up functions take a `Parameter` object as their argument, which is a container class for parameters. "
   ]
  },
  {
   "cell_type": "code",
   "execution_count": null,
   "metadata": {},
   "outputs": [],
   "source": [
    "def set_up_model_WT_v7(p):\n",
    "    activ = lambda state: p.p_U\n",
    "    Uu_death = lambda state: p.d_Uu\n",
    "    Us_death = lambda state: np.maximum(0, p.d_Us - p.f * state.CD25u * hill(state.IL2, p.n_U, p.k_U))\n",
    "    p_D_cd25 = lambda state: p.p_D_cd25 * hill(state.IL2, p.n_D_il2, p.k_D_il2)\n",
    "    w_U = lambda state: np.minimum(1, state.CD80u + state.CD86u) * state.Us\n",
    "    w_Dneg = lambda state: np.minimum(1, state.CD80neg + state.CD86neg) * state.Dneg\n",
    "    w_Dpos = lambda state: np.minimum(1, state.CD80pos + state.CD86pos) * state.Dpos\n",
    "    p_D_cd28 = lambda state: p.p_D_cd28 * hill(w_U(state) + w_Dneg(state) + w_Dpos(state), p.n_D_cd28, p.k_D_cd28) * (\n",
    "            1 - hill(state.Dpos, p.n_D_ctla4, p.k_D_ctla4))\n",
    "    Dneg_growth = lambda state: p.p_D + np.minimum(state.CD25neg * p_D_cd25(state) + p_D_cd28(state),\n",
    "                                                   p.p_D_cd25)\n",
    "    Dpos_growth = lambda state: p.p_D + np.minimum(state.CD25pos * p_D_cd25(state) + p_D_cd28(state),\n",
    "                                                   p.p_D_cd25)\n",
    "    CTLA4_on = lambda state: p.p_Dpos * state.CD25neg * hill(state.IL2, p.n_Dpos, p.k_Dpos)\n",
    "    CTLA4_off = lambda state: p.p_Dneg\n",
    "    return ActivationModel(activ, Uu_death, Us_death, Dneg_growth, Dpos_growth, CTLA4_on,\n",
    "                           CTLA4_off, delay=p.delay)\n",
    "\n",
    "\n",
    "def set_up_model_DKO_v7(p):\n",
    "    activ = lambda state: p.p_U\n",
    "    Uu_death = lambda state: p.d_Uu\n",
    "    Us_death = lambda state: np.maximum(0, p.d_Us - p.f * state.CD25u * hill(state.IL2, p.n_U, p.k_U))\n",
    "    p_D_cd25 = lambda state: p.p_D_cd25 * hill(state.IL2, p.n_D_il2, p.k_D_il2)\n",
    "    Dneg_growth = lambda state: p.p_D + np.minimum(state.CD25neg * p_D_cd25(state),\n",
    "                                                   state.CD25neg * p.p_D_cd25)\n",
    "    Dpos_growth = lambda state: p.p_D + np.minimum(state.CD25pos * p_D_cd25(state),\n",
    "                                                   state.CD25pos * p.p_D_cd25)\n",
    "    CTLA4_on = lambda state: p.p_Dpos * state.CD25neg * hill(state.IL2, p.n_Dpos, p.k_Dpos)\n",
    "    CTLA4_off = lambda state: p.p_Dneg\n",
    "    return ActivationModel(activ, Uu_death, Us_death, Dneg_growth, Dpos_growth, CTLA4_on,\n",
    "                           CTLA4_off, delay=p.delay)"
   ]
  },
  {
   "cell_type": "markdown",
   "metadata": {},
   "source": [
    "# Fits"
   ]
  },
  {
   "cell_type": "code",
   "execution_count": null,
   "metadata": {},
   "outputs": [],
   "source": [
    "# scipy solver\n",
    "solver = 'BDF'\n",
    "\n",
    "# Run a simulation:\n",
    "# - set initial state (y0) using values from parameter class (pars)\n",
    "# - create the model by running the provided set up function (f_setup)\n",
    "# - run the model using the initial state (y0) and the experimental data\n",
    "# - collect results as a dataframe and return\n",
    "def run_sim(t,pars,f_setup,expdata,method='BDF'):\n",
    "    y0 = [pars.f_unsens*pars.U_0,(1-pars.f_unsens)*pars.U_0,pars.Dneg_0,pars.Dpos_0]\n",
    "    m = f_setup(pars)\n",
    "    m.run(y0,t,expdata,method=method)    \n",
    "    return m.get_df()"
   ]
  },
  {
   "cell_type": "code",
   "execution_count": null,
   "metadata": {},
   "outputs": [],
   "source": [
    "# default parameters, values may be overwritten when included in the fits\n",
    "pars_def = Parameters(p_U=.1, d_U=.024, p_D=-.13, p_D_cd25=.2, p_D_cd28=.06, p_Dpos=1, p_Dneg=.1,\n",
    "                      k_D_ctla4=100000, k_D_cd28=9000, k_D_cd25=300, k_D_il2=300, k_Dpos=40,\n",
    "                      k_Dpos_CD25=4000, k_Dneg=1e-10,\n",
    "                      n_D_ctla4=2, n_D_cd28=2, n_D_cd25=5, n_D_il2=5, n_Dpos=2, n_Dpos_CD25=3,\n",
    "                      delay=28, U_0=0, n_U=5, f_unsens=0)\n",
    "\n",
    "# dataframe with best parameter fits\n",
    "# note that residuals of the fits are also included\n",
    "df_pars = pd.read_csv(basepath.joinpath('results','best_fits.csv'),sep='\\t')\n",
    "\n",
    "def plot_fit_results(df_pars,f_setup,line,well,cnt0,cols=None,title=None,method='BDF',t=None,\n",
    "                     labels=None,sharey=False):     \n",
    "    exp_col = {'undivided':'cnt undivided','divided CTLA4-':'cnt divided CTLA4-',\n",
    "           'divided CTLA4+':'cnt divided CTLA4+','cell count':'cnt all'}\n",
    "    df_ct = pd.read_csv(datapath.joinpath(f'celltypes_{ct}.csv.gz'),\n",
    "                    sep='\\t',compression='gzip')    \n",
    "    if labels is None:\n",
    "        labels = len(df_pars)*['_nolegend_']\n",
    "    if cols is None:\n",
    "        cols = ['undivided','divided CTLA4-','divided CTLA4+','cell count']        \n",
    "        ny = 1\n",
    "        nx = 4\n",
    "    else:\n",
    "        ny = int(np.ceil(len(cols)/5))\n",
    "        nx = int(np.ceil(len(cols)/ny))\n",
    "    fig,axes = plt.subplots(ny,nx,figsize=(nx*w_im,ny*h_im),sharey=sharey,tight_layout=True) \n",
    "    axes = axes.flatten()                \n",
    "    if title is not None:\n",
    "        fig.suptitle(title,y=1.05,fontsize=16)\n",
    "    else:\n",
    "        fig.suptitle(f'{well} - {cnt0} - {line}',y=1.05,fontsize=16)\n",
    "    expdata = get_interpolated_data(line, well, cnt0)\n",
    "    sdf_exp = df_ct[(df_ct.line==line)&(df_ct.well==well)&(df_ct.cnt0==cnt0)]                \n",
    "    ylim = {}\n",
    "    for i,col in enumerate(cols):\n",
    "        if col in exp_col:\n",
    "            mu = sdf_exp.groupby('time').mean()[exp_col[col]]\n",
    "            sd = sdf_exp.groupby('time').std()[exp_col[col]]\n",
    "            axes[i].errorbar(mu.index,mu.values,yerr=sd.values,label='_nolegend_',fmt='o',color='r')\n",
    "            ylim[col] = axes[i].get_ylim()\n",
    "    if t is None:\n",
    "        t = np.linspace(0,84,101)       \n",
    "    df_pars = df_pars.reset_index()\n",
    "    for idx,row in df_pars.iterrows():\n",
    "        pars = dfrow_to_pars(pd.DataFrame(row).transpose(),pars_def)\n",
    "        df = run_sim(t,pars,f_setup,expdata,method=method) \n",
    "        for i,col in enumerate(cols):\n",
    "            if len(df_pars) <= len(patterns):\n",
    "                axes[i].plot(df.time,df[col],'-',label=labels[idx],dashes=patterns[idx])                \n",
    "            else:\n",
    "                axes[i].plot(df.time,df[col],'-',label=labels[idx])\n",
    "            axes[i].set(title=col,xlabel='time',xticks=[0,24,48,72,96],xlim=[0,96])\n",
    "                        #ylim=(axes[i].get_ylim()[0],ylim[col][1]))    \n",
    "    sns.despine()     \n",
    "    if len(axes) > len(cols):\n",
    "        for i in range(len(cols),len(axes)):\n",
    "            plt.delaxes(axes[i])\n",
    "    if len(axes[len(cols)-1].get_legend_handles_labels()[0]) > 0:\n",
    "        axes[len(cols)-1].legend(loc=(1.1,0),frameon=False)"
   ]
  },
  {
   "cell_type": "markdown",
   "metadata": {},
   "source": [
    "### Flat wells"
   ]
  },
  {
   "cell_type": "code",
   "execution_count": null,
   "metadata": {},
   "outputs": [],
   "source": [
    "well = 'F'\n",
    "df_best = df_pars[df_pars['well']==well].copy()\n",
    "for cnt0 in cnt0s:   \n",
    "    df_best['U_0'] = cnt0\n",
    "    plot_fit_results(df_best,set_up_model_WT_v7,'WT',well,cnt0,method=solver)\n",
    "for cnt0 in cnt0s:   \n",
    "    df_best['U_0'] = cnt0\n",
    "    plot_fit_results(df_best,set_up_model_DKO_v7,'DKO',well,cnt0,method=solver)"
   ]
  },
  {
   "cell_type": "markdown",
   "metadata": {},
   "source": [
    "### U wells"
   ]
  },
  {
   "cell_type": "code",
   "execution_count": null,
   "metadata": {},
   "outputs": [],
   "source": [
    "well = 'U'\n",
    "df_best = df_pars[df_pars['well']==well].copy()\n",
    "for cnt0 in cnt0s:   \n",
    "    df_best['U_0'] = cnt0\n",
    "    plot_fit_results(df_best,set_up_model_WT_v7,'WT',well,cnt0,method=solver)\n",
    "for cnt0 in cnt0s:   \n",
    "    df_best['U_0'] = cnt0\n",
    "    plot_fit_results(df_best,set_up_model_DKO_v7,'DKO',well,cnt0,method=solver)"
   ]
  },
  {
   "cell_type": "markdown",
   "metadata": {},
   "source": [
    "### V wells"
   ]
  },
  {
   "cell_type": "code",
   "execution_count": null,
   "metadata": {},
   "outputs": [],
   "source": [
    "well = 'V'\n",
    "df_best = df_pars[df_pars['well']==well].copy()\n",
    "for cnt0 in cnt0s:   \n",
    "    df_best['U_0'] = cnt0\n",
    "    plot_fit_results(df_best,set_up_model_WT_v7,'WT',well,cnt0,method=solver)\n",
    "for cnt0 in cnt0s:   \n",
    "    df_best['U_0'] = cnt0\n",
    "    plot_fit_results(df_best,set_up_model_DKO_v7,'DKO',well,cnt0,method=solver)"
   ]
  }
 ],
 "metadata": {
  "hide_input": false,
  "kernelspec": {
   "display_name": "Python 3",
   "language": "python",
   "name": "python3"
  },
  "language_info": {
   "codemirror_mode": {
    "name": "ipython",
    "version": 3
   },
   "file_extension": ".py",
   "mimetype": "text/x-python",
   "name": "python",
   "nbconvert_exporter": "python",
   "pygments_lexer": "ipython3",
   "version": "3.8.6"
  },
  "toc": {
   "base_numbering": 1,
   "nav_menu": {},
   "number_sections": false,
   "sideBar": true,
   "skip_h1_title": false,
   "title_cell": "Table of Contents",
   "title_sidebar": "Contents",
   "toc_cell": false,
   "toc_position": {
    "height": "calc(100% - 180px)",
    "left": "10px",
    "top": "150px",
    "width": "307.2px"
   },
   "toc_section_display": true,
   "toc_window_display": true
  }
 },
 "nbformat": 4,
 "nbformat_minor": 4
}
